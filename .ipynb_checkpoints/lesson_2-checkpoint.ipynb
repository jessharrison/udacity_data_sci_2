{
 "cells": [
  {
   "cell_type": "code",
   "execution_count": 1,
   "metadata": {
    "collapsed": true
   },
   "outputs": [],
   "source": [
    "import numpy as np"
   ]
  },
  {
   "cell_type": "code",
   "execution_count": 2,
   "metadata": {
    "collapsed": true
   },
   "outputs": [],
   "source": [
    "#First 20 countries with employment data\n",
    "countries = np.array([\n",
    "    'Afghanistan', 'Albania', 'Algeria', 'Angola', 'Argentina',\n",
    "    'Armenia', 'Australia', 'Austria', 'Azerbaijan', 'Bahamas',\n",
    "    'Bahrain', 'Bangladesh', 'Barbados', 'Belarus', 'Belgium',\n",
    "    'Belize', 'Benin', 'Bhutan', 'Bolivia',\n",
    "    'Bosnia and Herzegovina'\n",
    "])\n",
    "\n",
    "#Employment data in 2007 for those 20 countries\n",
    "employment = np.array([\n",
    "    55.70000076,  51.40000153,  50.5       ,  75.69999695,\n",
    "    58.40000153,  40.09999847,  61.5       ,  57.09999847,\n",
    "    60.90000153,  66.59999847,  60.40000153,  68.09999847,\n",
    "    66.90000153,  53.40000153,  48.59999847,  56.79999924,\n",
    "    71.59999847,  58.40000153,  70.40000153,  41.20000076\n",
    "])"
   ]
  },
  {
   "cell_type": "code",
   "execution_count": 6,
   "metadata": {
    "collapsed": true
   },
   "outputs": [],
   "source": [
    "# For each practice exercise, predict the outcome using comments before running the code\n",
    "# to check your predictions"
   ]
  },
  {
   "cell_type": "code",
   "execution_count": 12,
   "metadata": {},
   "outputs": [
    {
     "name": "stdout",
     "output_type": "stream",
     "text": [
      "Afghanistan\n",
      "Angola\n"
     ]
    }
   ],
   "source": [
    "# Accessing elements\n",
    "\n",
    "print countries[0]\n",
    "# 'Afghanistan'\n",
    "print countries[3]\n",
    "# 'Angola'"
   ]
  },
  {
   "cell_type": "code",
   "execution_count": 13,
   "metadata": {},
   "outputs": [
    {
     "name": "stdout",
     "output_type": "stream",
     "text": [
      "['Afghanistan' 'Albania' 'Algeria']\n",
      "['Afghanistan' 'Albania' 'Algeria']\n",
      "['Bhutan' 'Bolivia' 'Bosnia and Herzegovina']\n",
      "['Afghanistan' 'Albania' 'Algeria' 'Angola' 'Argentina' 'Armenia'\n",
      " 'Australia' 'Austria' 'Azerbaijan' 'Bahamas' 'Bahrain' 'Bangladesh'\n",
      " 'Barbados' 'Belarus' 'Belgium' 'Belize' 'Benin' 'Bhutan' 'Bolivia'\n",
      " 'Bosnia and Herzegovina']\n"
     ]
    }
   ],
   "source": [
    "#Slicing\n",
    "\n",
    "print countries[0:3]\n",
    "# 'Afghanistan', 'Albania', 'Algeria'\n",
    "print countries[:3]\n",
    "# same output as above\n",
    "print countries[17:]\n",
    "# 'Bhutan', 'Bolivia', 'Bosnia and Herz.'\n",
    "print countries[:]\n",
    "# print the whole array"
   ]
  },
  {
   "cell_type": "code",
   "execution_count": 14,
   "metadata": {},
   "outputs": [
    {
     "name": "stdout",
     "output_type": "stream",
     "text": [
      "|S22\n",
      "float64\n",
      "int64\n",
      "float64\n",
      "bool\n",
      "|S2\n"
     ]
    }
   ],
   "source": [
    "# Element types\n",
    "\n",
    "print countries.dtype\n",
    "# string\n",
    "print employment.dtype\n",
    "# float\n",
    "print np.array([0,1,2,3]).dtype\n",
    "# int\n",
    "print np.array([1.0, 1.5, 2.0, 2.5]).dtype\n",
    "# float\n",
    "print np.array([True, False, True]).dtype\n",
    "# bool(ean)\n",
    "print np.array(['AL', 'AK', 'AZ', 'AR', 'CA']).dtype\n",
    "# string"
   ]
  },
  {
   "cell_type": "code",
   "execution_count": 30,
   "metadata": {
    "collapsed": true
   },
   "outputs": [],
   "source": [
    "# when numpy reads out string types, it also tells the length of the longest string. S22 (longest is 22 characters)\n",
    "# the float and int64 refers to how the numbers are stored, 64 bits"
   ]
  },
  {
   "cell_type": "code",
   "execution_count": 16,
   "metadata": {},
   "outputs": [
    {
     "name": "stdout",
     "output_type": "stream",
     "text": [
      "Examining country Afghanistan\n",
      "Examining country Albania\n",
      "Examining country Algeria\n",
      "Examining country Angola\n",
      "Examining country Argentina\n",
      "Examining country Armenia\n",
      "Examining country Australia\n",
      "Examining country Austria\n",
      "Examining country Azerbaijan\n",
      "Examining country Bahamas\n",
      "Examining country Bahrain\n",
      "Examining country Bangladesh\n",
      "Examining country Barbados\n",
      "Examining country Belarus\n",
      "Examining country Belgium\n",
      "Examining country Belize\n",
      "Examining country Benin\n",
      "Examining country Bhutan\n",
      "Examining country Bolivia\n",
      "Examining country Bosnia and Herzegovina\n",
      "Country Afghanistan has employment 55.70000076\n",
      "Country Albania has employment 51.40000153\n",
      "Country Algeria has employment 50.5\n",
      "Country Angola has employment 75.69999695\n",
      "Country Argentina has employment 58.40000153\n",
      "Country Armenia has employment 40.09999847\n",
      "Country Australia has employment 61.5\n",
      "Country Austria has employment 57.09999847\n",
      "Country Azerbaijan has employment 60.90000153\n",
      "Country Bahamas has employment 66.59999847\n",
      "Country Bahrain has employment 60.40000153\n",
      "Country Bangladesh has employment 68.09999847\n",
      "Country Barbados has employment 66.90000153\n",
      "Country Belarus has employment 53.40000153\n",
      "Country Belgium has employment 48.59999847\n",
      "Country Belize has employment 56.79999924\n",
      "Country Benin has employment 71.59999847\n",
      "Country Bhutan has employment 58.40000153\n",
      "Country Bolivia has employment 70.40000153\n",
      "Country Bosnia and Herzegovina has employment 41.20000076\n"
     ]
    }
   ],
   "source": [
    "# Looping\n",
    "\n",
    "for country in countries:\n",
    "    print 'Examining country {}'.format(country)\n",
    "# prints every country\n",
    "\n",
    "for i in range(len(countries)):\n",
    "    country = countries[i]\n",
    "    country_employment = employment[i]\n",
    "    print 'Country {} has employment {}'.format(country, \n",
    "            country_employment)\n",
    "# pulls from both arrays and prints every country in order w/ the employment level"
   ]
  },
  {
   "cell_type": "code",
   "execution_count": null,
   "metadata": {
    "collapsed": true
   },
   "outputs": [],
   "source": [
    "# Pay attention to string interpolation here! the .format is diff than what has\n",
    "# been used so far."
   ]
  },
  {
   "cell_type": "code",
   "execution_count": 17,
   "metadata": {},
   "outputs": [
    {
     "name": "stdout",
     "output_type": "stream",
     "text": [
      "58.6850000385\n",
      "9.33826911369\n",
      "75.69999695\n",
      "1173.70000077\n"
     ]
    }
   ],
   "source": [
    "# NumPy functions\n",
    "\n",
    "print employment.mean()\n",
    "# prints average\n",
    "print employment.std()\n",
    "# prints standard deviation\n",
    "print employment.max()\n",
    "# prints highest employment rate\n",
    "print employment.sum()\n",
    "# prints the sum of all the employment rates"
   ]
  },
  {
   "cell_type": "code",
   "execution_count": 27,
   "metadata": {
    "collapsed": true
   },
   "outputs": [],
   "source": [
    "# Write a function:\n",
    "\n",
    "def max_employment(countries, employment):\n",
    "    '''\n",
    "    Takes as input (1) an array of countries and (2) an \n",
    "    array of the countries' employment levels. Returns \n",
    "    the country with the highest employment and that level.\n",
    "    '''\n",
    "    max_employment_index = employment.argmax()\n",
    "    max_country = countries[max_employment_index]\n",
    "    max_value = employment.max()\n",
    "    \n",
    "#     for i in range(0, len(countries)):\n",
    "#         if employment[i] > max_value:\n",
    "#             max_country = countries[i]\n",
    "#             max_value = employment[i]\n",
    "\n",
    "    return (max_country, max_value)"
   ]
  },
  {
   "cell_type": "code",
   "execution_count": 28,
   "metadata": {},
   "outputs": [
    {
     "data": {
      "text/plain": [
       "('Angola', 75.699996949999999)"
      ]
     },
     "execution_count": 28,
     "metadata": {},
     "output_type": "execute_result"
    }
   ],
   "source": [
    "max_employment(countries, employment)"
   ]
  },
  {
   "cell_type": "code",
   "execution_count": 29,
   "metadata": {},
   "outputs": [
    {
     "data": {
      "text/plain": [
       "'Angola'"
      ]
     },
     "execution_count": 29,
     "metadata": {},
     "output_type": "execute_result"
    }
   ],
   "source": [
    "# There has to be a shorter built in way to do this.\n",
    "\n",
    "# np.argmax()\n",
    "# returns the position where the maximum number is located.\n",
    "\n",
    "countries[employment.argmax()]"
   ]
  },
  {
   "cell_type": "code",
   "execution_count": 31,
   "metadata": {},
   "outputs": [
    {
     "name": "stdout",
     "output_type": "stream",
     "text": [
      "[2 4 4 6]\n",
      "[0 0 2 2]\n",
      "[1 4 3 8]\n",
      "[1 1 3 2]\n",
      "[ 1  4  3 16]\n"
     ]
    }
   ],
   "source": [
    "# Arithmetic operations between 2 NumPy arrays\n",
    "\n",
    "a = np.array([1, 2, 3, 4])\n",
    "b = np.array([1, 2, 1, 2])\n",
    "\n",
    "print a + b\n",
    "# [2, 4, 4, 6]\n",
    "print a - b\n",
    "# [0, 0, 2, 2]\n",
    "print a * b\n",
    "# [1, 4, 3, 8]\n",
    "print a / b\n",
    "# [1, 1, 3, 2]\n",
    "# what would happen with fractional results?\n",
    "print a ** b\n",
    "# [1, 4, 3, 16]"
   ]
  },
  {
   "cell_type": "code",
   "execution_count": 33,
   "metadata": {},
   "outputs": [
    {
     "name": "stdout",
     "output_type": "stream",
     "text": [
      "[3 4 5 6]\n",
      "[-1  0  1  2]\n",
      "[2 4 6 8]\n",
      "[0 1 1 2]\n",
      "[ 1  4  9 16]\n"
     ]
    }
   ],
   "source": [
    "# Arithmetic operations between a NumPy array and a single number\n",
    "\n",
    "a = np.array([1, 2, 3, 4])\n",
    "b = 2\n",
    "\n",
    "print a + b\n",
    "# [3, 4, 5, 6]\n",
    "print a - b\n",
    "# [-1, 0, 1, 2]\n",
    "print a * b\n",
    "# [2, 4, 6, 8]\n",
    "print a / b\n",
    "# [0.5, 1.0, 1.5, 2.0]\n",
    "print a ** b\n",
    "# [1, 4, 9, 16]"
   ]
  },
  {
   "cell_type": "code",
   "execution_count": null,
   "metadata": {
    "collapsed": true
   },
   "outputs": [],
   "source": [
    "# Fractional results are rounded down to the nearest int.\n",
    "# 1/2 = 0\n",
    "# 3/2 = 1\n",
    "# They do not become floats"
   ]
  },
  {
   "cell_type": "code",
   "execution_count": 36,
   "metadata": {},
   "outputs": [
    {
     "name": "stdout",
     "output_type": "stream",
     "text": [
      "[ True False False False]\n",
      "[ True  True  True False]\n",
      "[False False  True  True]\n",
      "[ True  True False False]\n",
      "[False False False False]\n",
      "[ True  True  True  True]\n",
      "[ True  True False False]\n"
     ]
    }
   ],
   "source": [
    "# Logical operations with NumPy arrays\n",
    "\n",
    "a = np.array([True, True, False, False])\n",
    "b = np.array([True, False, True, False])\n",
    "\n",
    "print a & b\n",
    "# [True, False, False, False]\n",
    "print a | b\n",
    "# [True, True, True, False]\n",
    "print ~a\n",
    "# [False, False, True, True]\n",
    "\n",
    "print a & True\n",
    "# [True, True, False, False]\n",
    "print a & False\n",
    "# [False, False, False, False]\n",
    "\n",
    "print a | True\n",
    "# [True, True, True, True]\n",
    "print a | False\n",
    "# [True, True, False, False]"
   ]
  },
  {
   "cell_type": "code",
   "execution_count": 40,
   "metadata": {},
   "outputs": [
    {
     "name": "stdout",
     "output_type": "stream",
     "text": [
      "[False False False  True  True]\n",
      "[False False  True  True  True]\n",
      "[ True  True False False False]\n",
      "[ True  True  True False False]\n",
      "[False False  True False False]\n",
      "[ True  True False  True  True]\n"
     ]
    }
   ],
   "source": [
    "# Comparison operations between two NumPy arrays\n",
    "\n",
    "a = np.array([1, 2, 3, 4, 5])\n",
    "b = np.array([5, 4, 3, 2, 1])\n",
    "\n",
    "print a > b\n",
    "# [False, False, False, True, True]\n",
    "print a >= b\n",
    "# [False, False, True, True, True]\n",
    "print a < b\n",
    "# [True, True, False, False, False]\n",
    "print a <= b\n",
    "# [True, True, True, False, False]\n",
    "print a == b\n",
    "# [False, False, True, False, False]\n",
    "print a != b\n",
    "# [True, True, False, True, True]"
   ]
  },
  {
   "cell_type": "code",
   "execution_count": 45,
   "metadata": {},
   "outputs": [
    {
     "name": "stdout",
     "output_type": "stream",
     "text": [
      "[False False  True  True]\n",
      "[False  True  True  True]\n",
      "[ True False False False]\n",
      "[ True  True False False]\n",
      "[False  True False False]\n",
      "[ True False  True  True]\n"
     ]
    }
   ],
   "source": [
    "# Comparison operations between a NumPy array and a single number\n",
    "\n",
    "a = np.array([1, 2, 3, 4])\n",
    "b = 2\n",
    "\n",
    "print a > b\n",
    "# [False, False, True, True]\n",
    "print a >= b\n",
    "# [False, True, True, True]\n",
    "print a < b\n",
    "# [True, False, False, False]\n",
    "print a <= b\n",
    "# [True, True, False, False]\n",
    "print a == b\n",
    "# [False, True, False, False]\n",
    "print a != b\n",
    "# [True, False, True, True]"
   ]
  },
  {
   "cell_type": "code",
   "execution_count": 46,
   "metadata": {
    "collapsed": true
   },
   "outputs": [],
   "source": [
    "# First 20 countries with school completion data\n",
    "countries = np.array([\n",
    "       'Algeria', 'Argentina', 'Armenia', 'Aruba', 'Austria','Azerbaijan',\n",
    "       'Bahamas', 'Barbados', 'Belarus', 'Belgium', 'Belize', 'Bolivia',\n",
    "       'Botswana', 'Brunei', 'Bulgaria', 'Burkina Faso', 'Burundi',\n",
    "       'Cambodia', 'Cameroon', 'Cape Verde'\n",
    "])\n",
    "\n",
    "# Female school completion rate in 2007 for those 20 countries\n",
    "female_completion = np.array([\n",
    "    97.35583,  104.62379,  103.02998,   95.14321,  103.69019,\n",
    "    98.49185,  100.88828,   95.43974,   92.11484,   91.54804,\n",
    "    95.98029,   98.22902,   96.12179,  119.28105,   97.84627,\n",
    "    29.07386,   38.41644,   90.70509,   51.7478 ,   95.45072\n",
    "])\n",
    "\n",
    "# Male school completion rate in 2007 for those 20 countries\n",
    "male_completion = np.array([\n",
    "     95.47622,  100.66476,   99.7926 ,   91.48936,  103.22096,\n",
    "     97.80458,  103.81398,   88.11736,   93.55611,   87.76347,\n",
    "    102.45714,   98.73953,   92.22388,  115.3892 ,   98.70502,\n",
    "     37.00692,   45.39401,   91.22084,   62.42028,   90.66958\n",
    "])"
   ]
  },
  {
   "cell_type": "code",
   "execution_count": 53,
   "metadata": {
    "collapsed": true
   },
   "outputs": [],
   "source": [
    "def overall_completion_rate(female_completion, male_completion):\n",
    "    '''\n",
    "    The arguments are NumPy arrays giving the female \n",
    "    and male completion of each country in the same order,\n",
    "    and the function returns a NumPy array of rates.\n",
    "    '''\n",
    "    return (female_completion + male_completion)/2.0"
   ]
  },
  {
   "cell_type": "code",
   "execution_count": 54,
   "metadata": {},
   "outputs": [
    {
     "name": "stdout",
     "output_type": "stream",
     "text": [
      "[  96.416025  102.644275  101.41129    93.316285  103.455575   98.148215\n",
      "  102.35113    91.77855    92.835475   89.655755   99.218715   98.484275\n",
      "   94.172835  117.335125   98.275645   33.04039    41.905225   90.962965\n",
      "   57.08404    93.06015 ]\n"
     ]
    }
   ],
   "source": [
    "overall_completion = overall_completion_rate(female_completion, male_completion)\n",
    "print overall_completion"
   ]
  },
  {
   "cell_type": "code",
   "execution_count": null,
   "metadata": {
    "collapsed": true
   },
   "outputs": [],
   "source": []
  },
  {
   "cell_type": "code",
   "execution_count": null,
   "metadata": {
    "collapsed": true
   },
   "outputs": [],
   "source": []
  },
  {
   "cell_type": "code",
   "execution_count": null,
   "metadata": {
    "collapsed": true
   },
   "outputs": [],
   "source": []
  }
 ],
 "metadata": {
  "kernelspec": {
   "display_name": "Python 2",
   "language": "python",
   "name": "python2"
  },
  "language_info": {
   "codemirror_mode": {
    "name": "ipython",
    "version": 2
   },
   "file_extension": ".py",
   "mimetype": "text/x-python",
   "name": "python",
   "nbconvert_exporter": "python",
   "pygments_lexer": "ipython2",
   "version": "2.7.13"
  }
 },
 "nbformat": 4,
 "nbformat_minor": 2
}
